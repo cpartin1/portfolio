{
 "cells": [
  {
   "cell_type": "code",
   "execution_count": 1,
   "id": "4bf36e2c",
   "metadata": {},
   "outputs": [],
   "source": [
    "import random\n",
    "import numpy as np\n",
    "import scipy.stats as stat\n",
    "import matplotlib.pyplot as plt"
   ]
  },
  {
   "cell_type": "code",
   "execution_count": 153,
   "id": "533150ee",
   "metadata": {},
   "outputs": [],
   "source": [
    "#function to sample from poisson 1 time\n",
    "def poisson(target_time, rate):\n",
    "    i = 0\n",
    "    events = -1\n",
    "    #we simply accumulate exponentially sampled amounts of time\n",
    "    while i < target_time:\n",
    "        i += np.random.exponential(1 / rate)\n",
    "        events += 1 #after each sample we increment number of events\n",
    "    return events\n",
    "#function to sample from poisson n times\n",
    "def n_poisson(n, target_time, rate):\n",
    "    event_table = np.array([])\n",
    "    for iterations in range(n):\n",
    "        event_table = np.append(event_table, poisson(target_time, rate))\n",
    "    return event_table"
   ]
  },
  {
   "cell_type": "code",
   "execution_count": 154,
   "id": "1f7e003f",
   "metadata": {},
   "outputs": [],
   "source": [
    "#define our hyperparameters and functions to convert them to posterior parameters\n",
    "alpha = 5\n",
    "beta = 1\n",
    "def get_shape(alpha, data):\n",
    "    return alpha + np.sum(data)\n",
    "def get_scale(beta, data):\n",
    "    return 1/((1/beta) + len(data))"
   ]
  },
  {
   "cell_type": "markdown",
   "id": "4aabe019",
   "metadata": {},
   "source": [
    "It would be possible to construct a likelihood for n data points by taking the product of the Poisson distribution equation for each data point, then multiplying that likelihood by the gamma distribution prior to get some gamma distribution for the posterior. The issue is finding a wieldy way to construct a function like that in Python.. maybe using higher order functions and/or recursion is necessary here. Analytically, however, we can simply convert the parameters using the above functions."
   ]
  },
  {
   "cell_type": "code",
   "execution_count": 156,
   "id": "d359680a",
   "metadata": {},
   "outputs": [
    {
     "data": {
      "image/png": "[encoded data removed]",
      "text/plain": [
       "<Figure size 640x480 with 3 Axes>"
      ]
     },
     "metadata": {},
     "output_type": "display_data"
    }
   ],
   "source": [
    "fig, axs = plt.subplots(1, 3, sharey=True, tight_layout=True, sharex=True)\n",
    "\n",
    "#plot a prior and posterior for the first 10, 100, and 1000 data points\n",
    "data = n_poisson(1000, 1, 10)\n",
    "\n",
    "title = axs[0].set_title(\"Prior and Posterior for n=10\", size=\"small\")\n",
    "plot = axs[0].hist(np.random.gamma(alpha, scale=beta, size=1000), density=True)\n",
    "plot = axs[0].hist(np.random.gamma(get_shape(alpha, data[0:10]), scale=get_scale(beta, data[0:10]), size=1000), density=True)\n",
    "\n",
    "title = axs[1].set_title(\"Prior and Posterior for n=100\", size=\"small\")\n",
    "plot = axs[1].hist(np.random.gamma(alpha, scale=beta, size=1000), density=True)\n",
    "plot = axs[1].hist(np.random.gamma(get_shape(alpha, data[0:100]), scale=get_scale(beta, data[0:100]), size=1000), density=True)\n",
    "\n",
    "title = axs[2].set_title(\"Prior and Posterior for n=1000\", size=\"small\")\n",
    "plot = axs[2].hist(np.random.gamma(alpha, scale=beta, size=1000), density=True)\n",
    "plot = axs[2].hist(np.random.gamma(get_shape(alpha, data), scale=get_scale(beta, data), size=1000), density=True)"
   ]
  },
  {
   "cell_type": "code",
   "execution_count": null,
   "id": "9b6000b2",
   "metadata": {},
   "outputs": [],
   "source": []
  }
 ],
 "metadata": {
  "kernelspec": {
   "display_name": "Python 3 (ipykernel)",
   "language": "python",
   "name": "python3"
  },
  "language_info": {
   "codemirror_mode": {
    "name": "ipython",
    "version": 3
   },
   "file_extension": ".py",
   "mimetype": "text/x-python",
   "name": "python",
   "nbconvert_exporter": "python",
   "pygments_lexer": "ipython3",
   "version": "3.10.9"
  }
 },
 "nbformat": 4,
 "nbformat_minor": 5
}
