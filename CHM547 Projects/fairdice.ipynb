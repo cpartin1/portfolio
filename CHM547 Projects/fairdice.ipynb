{
 "cells": [
  {
   "cell_type": "code",
   "execution_count": 3,
   "id": "af992ad7",
   "metadata": {},
   "outputs": [],
   "source": [
    "import random\n",
    "import numpy as np"
   ]
  },
  {
   "cell_type": "code",
   "execution_count": 27,
   "id": "34ef5021",
   "metadata": {},
   "outputs": [],
   "source": [
    "#Fundamental theorem of simulation demonstration: a fair dice\n",
    "#Step 0: initiating variables\n",
    "iterations_in = 10000"
   ]
  },
  {
   "cell_type": "code",
   "execution_count": 37,
   "id": "555b184a",
   "metadata": {},
   "outputs": [],
   "source": [
    "def roll_dice(iterations):\n",
    "    #Initiate dice roll array: each element will be a count of number of times corresponding number is rolled\n",
    "    dice_roll_arr = [0, 0, 0, 0, 0, 0]\n",
    "    \n",
    "    for i in range(iterations):\n",
    "        #Step 1: Sample uniform distribution\n",
    "        u = random.uniform(0.0, 1.0)\n",
    "        #Step 2: Finding the lowest m. For a fair dice, m = 6, and the probability of each roll is the same.\n",
    "        #Step 3: Update the state\n",
    "        if u < (1/6): #roll 1\n",
    "            r = 0\n",
    "        elif u < (2/6): #roll 2\n",
    "            r = 1\n",
    "        elif u < (3/6): #roll 3\n",
    "            r = 2\n",
    "        elif u < (4/6): #roll 4\n",
    "            r = 3\n",
    "        elif u < (5/6): #roll 5\n",
    "            r = 4\n",
    "        else: #roll 6\n",
    "            r = 5\n",
    "        #Step 3.5: Update array\n",
    "        dice_roll_arr[r] += 1\n",
    "        \n",
    "    return dice_roll_arr"
   ]
  },
  {
   "cell_type": "code",
   "execution_count": 38,
   "id": "039c3a3d",
   "metadata": {
    "scrolled": true
   },
   "outputs": [
    {
     "data": {
      "text/plain": [
       "[1612, 1678, 1694, 1710, 1704, 1602]"
      ]
     },
     "execution_count": 38,
     "metadata": {},
     "output_type": "execute_result"
    }
   ],
   "source": [
    "roll_dice(iterations_in)\n",
    "#Output seems fair!"
   ]
  },
  {
   "cell_type": "code",
   "execution_count": null,
   "id": "6715f588",
   "metadata": {},
   "outputs": [],
   "source": []
  }
 ],
 "metadata": {
  "kernelspec": {
   "display_name": "Python 3 (ipykernel)",
   "language": "python",
   "name": "python3"
  },
  "language_info": {
   "codemirror_mode": {
    "name": "ipython",
    "version": 3
   },
   "file_extension": ".py",
   "mimetype": "text/x-python",
   "name": "python",
   "nbconvert_exporter": "python",
   "pygments_lexer": "ipython3",
   "version": "3.10.9"
  }
 },
 "nbformat": 4,
 "nbformat_minor": 5
}
