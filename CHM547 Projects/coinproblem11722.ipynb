{
 "cells": [
  {
   "cell_type": "code",
   "execution_count": 1,
   "id": "aefe87fa",
   "metadata": {},
   "outputs": [],
   "source": [
    "import random"
   ]
  },
  {
   "cell_type": "code",
   "execution_count": 2,
   "id": "d53492a9",
   "metadata": {},
   "outputs": [],
   "source": [
    "N = 8"
   ]
  },
  {
   "cell_type": "code",
   "execution_count": 3,
   "id": "4e47b228",
   "metadata": {},
   "outputs": [],
   "source": [
    "class Penny:\n",
    "    stacked = False\n",
    "    def stack():\n",
    "        self.stacked = True"
   ]
  },
  {
   "cell_type": "code",
   "execution_count": 4,
   "id": "f9bed671",
   "metadata": {},
   "outputs": [],
   "source": [
    "def makePennies(N):\n",
    "    pennyarray = []\n",
    "    for i in range(N):\n",
    "        penny = Penny()\n",
    "        pennyarray.append(penny)\n",
    "    return pennyarray"
   ]
  },
  {
   "cell_type": "code",
   "execution_count": 5,
   "id": "0113689e",
   "metadata": {},
   "outputs": [],
   "source": [
    "pennyarray = makePennies(N)"
   ]
  },
  {
   "cell_type": "code",
   "execution_count": 6,
   "id": "8d3e30a7",
   "metadata": {},
   "outputs": [
    {
     "data": {
      "text/plain": [
       "False"
      ]
     },
     "execution_count": 6,
     "metadata": {},
     "output_type": "execute_result"
    }
   ],
   "source": [
    "pennyarray[0].stacked"
   ]
  },
  {
   "cell_type": "code",
   "execution_count": 7,
   "id": "95b98723",
   "metadata": {},
   "outputs": [],
   "source": [
    "def jumpPenny(pennyarray, index, direction):\n",
    "    if direction == 'R':\n",
    "        if (index + 2 <= len(pennyarray) - 1):\n",
    "            if (pennyarray[index + 1].stacked == True) & (pennyarray[index + 2].stacked == False):\n",
    "                pennyarray[index + 2].stacked = True\n",
    "                poppedPenny = pennyarray.pop(index)\n",
    "        if (index + 3 <= len(pennyarray) - 1):\n",
    "            if (pennyarray[index + 1].stacked == False) & (pennyarray[index + 2].stacked == False) & (pennyarray[index + 3].stacked == False):\n",
    "                pennyarray[index + 3].stacked = True\n",
    "                poppedPenny = pennyarray.pop(index)\n",
    "        else:\n",
    "            return -1\n",
    "        return 0\n",
    "    if direction == 'L':\n",
    "        if (index - 2 >= 0):\n",
    "            if (pennyarray[index - 1].stacked == True) & (pennyarray[index - 2].stacked == False):\n",
    "                pennyarray[index - 2].stacked = True\n",
    "                poppedPenny = pennyarray.pop(index)\n",
    "        if (index - 3 >= 0):\n",
    "            if (pennyarray[index - 1].stacked == False) & (pennyarray[index - 2].stacked == False) & (pennyarray[index - 3].stacked == False):\n",
    "                pennyarray[index - 3].stacked = True\n",
    "                poppedPenny = pennyarray.pop(index)\n",
    "        else:\n",
    "            return -1\n",
    "        return 0\n",
    "                "
   ]
  },
  {
   "cell_type": "code",
   "execution_count": 8,
   "id": "0b61c768",
   "metadata": {},
   "outputs": [],
   "source": [
    "def listPennies(pennyarray):\n",
    "    for i in range(len(pennyarray)):\n",
    "        print (str(i) + ' ' + str(pennyarray[i].stacked))"
   ]
  },
  {
   "cell_type": "code",
   "execution_count": 9,
   "id": "c026c135",
   "metadata": {
    "scrolled": true
   },
   "outputs": [
    {
     "name": "stdout",
     "output_type": "stream",
     "text": [
      "0 False\n",
      "1 False\n",
      "2 False\n",
      "3 False\n",
      "4 False\n",
      "5 False\n",
      "6 False\n",
      "7 False\n"
     ]
    }
   ],
   "source": [
    "listPennies(pennyarray)"
   ]
  },
  {
   "cell_type": "code",
   "execution_count": 10,
   "id": "86553622",
   "metadata": {},
   "outputs": [],
   "source": [
    "out = jumpPenny(pennyarray, 7, 'R')\n",
    "# should be 7 len array with index 3 being true"
   ]
  },
  {
   "cell_type": "code",
   "execution_count": 11,
   "id": "b4ef0c24",
   "metadata": {},
   "outputs": [
    {
     "name": "stdout",
     "output_type": "stream",
     "text": [
      "0 False\n",
      "1 False\n",
      "2 False\n",
      "3 False\n",
      "4 False\n",
      "5 False\n",
      "6 False\n",
      "7 False\n"
     ]
    }
   ],
   "source": [
    "listPennies(pennyarray)"
   ]
  },
  {
   "cell_type": "code",
   "execution_count": 12,
   "id": "fa23b718",
   "metadata": {},
   "outputs": [],
   "source": [
    "out = jumpPenny(pennyarray, 1, 'L')\n",
    "#array should not change, out should be -1"
   ]
  },
  {
   "cell_type": "code",
   "execution_count": 13,
   "id": "934b1f83",
   "metadata": {},
   "outputs": [
    {
     "name": "stdout",
     "output_type": "stream",
     "text": [
      "0 False\n",
      "1 False\n",
      "2 False\n",
      "3 False\n",
      "4 False\n",
      "5 False\n",
      "6 False\n",
      "7 False\n"
     ]
    }
   ],
   "source": [
    "listPennies(pennyarray)"
   ]
  },
  {
   "cell_type": "code",
   "execution_count": 14,
   "id": "3f27a827",
   "metadata": {},
   "outputs": [
    {
     "data": {
      "text/plain": [
       "-1"
      ]
     },
     "execution_count": 14,
     "metadata": {},
     "output_type": "execute_result"
    }
   ],
   "source": [
    "out"
   ]
  },
  {
   "cell_type": "code",
   "execution_count": 15,
   "id": "39b37e22",
   "metadata": {
    "scrolled": true
   },
   "outputs": [
    {
     "data": {
      "text/plain": [
       "-1"
      ]
     },
     "execution_count": 15,
     "metadata": {},
     "output_type": "execute_result"
    }
   ],
   "source": [
    "jumpPenny(pennyarray, 0, 'L')"
   ]
  },
  {
   "cell_type": "code",
   "execution_count": 16,
   "id": "9eda5088",
   "metadata": {},
   "outputs": [
    {
     "name": "stdout",
     "output_type": "stream",
     "text": [
      "0 False\n",
      "1 False\n",
      "2 False\n",
      "3 False\n",
      "4 False\n",
      "5 False\n",
      "6 False\n",
      "7 False\n"
     ]
    }
   ],
   "source": [
    "listPennies(pennyarray)"
   ]
  },
  {
   "cell_type": "code",
   "execution_count": 17,
   "id": "0c69eeff",
   "metadata": {},
   "outputs": [
    {
     "data": {
      "text/plain": [
       "0"
      ]
     },
     "execution_count": 17,
     "metadata": {},
     "output_type": "execute_result"
    }
   ],
   "source": [
    "jumpPenny(pennyarray, 4, 'R')"
   ]
  },
  {
   "cell_type": "code",
   "execution_count": 18,
   "id": "028c9236",
   "metadata": {},
   "outputs": [
    {
     "name": "stdout",
     "output_type": "stream",
     "text": [
      "0 False\n",
      "1 False\n",
      "2 False\n",
      "3 False\n",
      "4 False\n",
      "5 False\n",
      "6 True\n"
     ]
    }
   ],
   "source": [
    "listPennies(pennyarray)"
   ]
  },
  {
   "cell_type": "code",
   "execution_count": 19,
   "id": "e06e1af9",
   "metadata": {},
   "outputs": [],
   "source": [
    "def isSolved(pennyarray):\n",
    "    for penny in pennyarray:\n",
    "        if penny.stacked == False:\n",
    "            return False\n",
    "    return True"
   ]
  },
  {
   "cell_type": "code",
   "execution_count": 20,
   "id": "b690b2ed",
   "metadata": {
    "scrolled": true
   },
   "outputs": [
    {
     "data": {
      "text/plain": [
       "False"
      ]
     },
     "execution_count": 20,
     "metadata": {},
     "output_type": "execute_result"
    }
   ],
   "source": [
    "isSolved(pennyarray)"
   ]
  },
  {
   "cell_type": "code",
   "execution_count": 21,
   "id": "e150257c",
   "metadata": {},
   "outputs": [
    {
     "ename": "NameError",
     "evalue": "name 'loopcount' is not defined",
     "output_type": "error",
     "traceback": [
      "\u001b[0;31m---------------------------------------------------------------------------\u001b[0m",
      "\u001b[0;31mNameError\u001b[0m                                 Traceback (most recent call last)",
      "Cell \u001b[0;32mIn[21], line 1\u001b[0m\n\u001b[0;32m----> 1\u001b[0m \u001b[38;5;28;01mfor\u001b[39;00m stepcount \u001b[38;5;129;01min\u001b[39;00m \u001b[38;5;28mrange\u001b[39m(\u001b[43mloopcount\u001b[49m):\n\u001b[1;32m      2\u001b[0m         index \u001b[38;5;241m=\u001b[39m random\u001b[38;5;241m.\u001b[39mrandrange(\u001b[38;5;28mlen\u001b[39m(pennyarray))\n\u001b[1;32m      3\u001b[0m         \u001b[38;5;28;01mif\u001b[39;00m \u001b[38;5;28mbool\u001b[39m(random\u001b[38;5;241m.\u001b[39mgetrandbits(\u001b[38;5;241m1\u001b[39m)):\n",
      "\u001b[0;31mNameError\u001b[0m: name 'loopcount' is not defined"
     ]
    }
   ],
   "source": [
    "for stepcount in range(loopcount):\n",
    "        index = random.randrange(len(pennyarray))\n",
    "        if bool(random.getrandbits(1)):\n",
    "            direction = 'R'\n",
    "        else:\n",
    "            direction = 'L'\n",
    "        stepcount += jumpPenny(pennyarray, index, direction)"
   ]
  },
  {
   "cell_type": "code",
   "execution_count": 22,
   "id": "35d26e5a",
   "metadata": {
    "scrolled": false
   },
   "outputs": [
    {
     "name": "stdout",
     "output_type": "stream",
     "text": [
      "0 False\n",
      "1 False\n",
      "2 False\n",
      "3 False\n",
      "4 False\n",
      "5 False\n",
      "6 True\n"
     ]
    }
   ],
   "source": [
    "listPennies(pennyarray)"
   ]
  },
  {
   "cell_type": "code",
   "execution_count": 23,
   "id": "7d2332c0",
   "metadata": {},
   "outputs": [],
   "source": [
    "pennyarray = makePennies(N)\n",
    "instr_table = []\n",
    "while isSolved(pennyarray) == False:\n",
    "    instr_table = []\n",
    "    pennyarray = makePennies(N)\n",
    "    loopcount = int(len(pennyarray) / 2)\n",
    "    for stepcount in range(loopcount):\n",
    "        index = random.randrange(len(pennyarray))\n",
    "        if bool(random.getrandbits(1)):\n",
    "            direction = 'R'\n",
    "        else:\n",
    "            direction = 'L'\n",
    "        stepcount += jumpPenny(pennyarray, index, direction)\n",
    "        instr_table.append((index, direction))"
   ]
  },
  {
   "cell_type": "code",
   "execution_count": 24,
   "id": "29dc1513",
   "metadata": {},
   "outputs": [
    {
     "data": {
      "text/plain": [
       "[(3, 'R'), (4, 'L'), (0, 'R'), (2, 'R')]"
      ]
     },
     "execution_count": 24,
     "metadata": {},
     "output_type": "execute_result"
    }
   ],
   "source": [
    "instr_table"
   ]
  },
  {
   "cell_type": "code",
   "execution_count": 27,
   "id": "9c4784bd",
   "metadata": {},
   "outputs": [],
   "source": [
    "N = 12\n",
    "pennyarray = makePennies(N)\n",
    "instr_table = []\n",
    "while isSolved(pennyarray) == False:\n",
    "    instr_table = []\n",
    "    dir_bool = False\n",
    "    pennyarray = makePennies(N)\n",
    "    loopcount = int(len(pennyarray) / 2)\n",
    "    for stepcount in range(loopcount):\n",
    "        index = random.randrange(len(pennyarray))\n",
    "        if dir_bool:\n",
    "            direction = 'R'\n",
    "        else:\n",
    "            direction = 'L'\n",
    "            dir_bool = True\n",
    "        out = jumpPenny(pennyarray, index, direction)\n",
    "        instr_table.append((index, direction))"
   ]
  },
  {
   "cell_type": "code",
   "execution_count": 28,
   "id": "d187cfc7",
   "metadata": {},
   "outputs": [
    {
     "data": {
      "text/plain": [
       "[(4, 'L'), (6, 'R'), (7, 'R'), (2, 'R'), (3, 'R'), (0, 'R')]"
      ]
     },
     "execution_count": 28,
     "metadata": {},
     "output_type": "execute_result"
    }
   ],
   "source": [
    "instr_table"
   ]
  },
  {
   "cell_type": "code",
   "execution_count": null,
   "id": "4632b385",
   "metadata": {},
   "outputs": [],
   "source": []
  }
 ],
 "metadata": {
  "kernelspec": {
   "display_name": "Python 3 (ipykernel)",
   "language": "python",
   "name": "python3"
  },
  "language_info": {
   "codemirror_mode": {
    "name": "ipython",
    "version": 3
   },
   "file_extension": ".py",
   "mimetype": "text/x-python",
   "name": "python",
   "nbconvert_exporter": "python",
   "pygments_lexer": "ipython3",
   "version": "3.10.9"
  }
 },
 "nbformat": 4,
 "nbformat_minor": 5
}
